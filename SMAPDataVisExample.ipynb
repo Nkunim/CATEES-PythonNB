{
 "cells": [
  {
   "cell_type": "markdown",
   "metadata": {},
   "source": [
    "## SMAP Data Visualization Example\n",
    "This script pulls some static SMAP data and visualizes it somehow."
   ]
  },
  {
   "cell_type": "code",
   "execution_count": 3,
   "metadata": {
    "collapsed": false
   },
   "outputs": [
    {
     "ename": "OSError",
     "evalue": "NetCDF: I/O failure",
     "output_type": "error",
     "traceback": [
      "\u001b[1;31m\u001b[0m",
      "\u001b[1;31mOSError\u001b[0mTraceback (most recent call last)",
      "\u001b[1;32m<ipython-input-3-5507aa085ee7>\u001b[0m in \u001b[0;36m<module>\u001b[1;34m()\u001b[0m\n\u001b[0;32m      6\u001b[0m        \"SMAP_L1B_TB_01630_D_20150523T004154_R13080_001.h5\")\n\u001b[0;32m      7\u001b[0m \u001b[1;33m\u001b[0m\u001b[0m\n\u001b[1;32m----> 8\u001b[1;33m \u001b[0mdataset\u001b[0m \u001b[1;33m=\u001b[0m \u001b[0mnetCDF4\u001b[0m\u001b[1;33m.\u001b[0m\u001b[0mDataset\u001b[0m\u001b[1;33m(\u001b[0m\u001b[0murl\u001b[0m\u001b[1;33m)\u001b[0m\u001b[1;33m\u001b[0m\u001b[0m\n\u001b[0m\u001b[0;32m      9\u001b[0m \u001b[1;33m\u001b[0m\u001b[0m\n\u001b[0;32m     10\u001b[0m \u001b[1;32mfor\u001b[0m \u001b[0mvar\u001b[0m \u001b[1;32min\u001b[0m \u001b[0mdataset\u001b[0m\u001b[1;33m.\u001b[0m\u001b[0mvariables\u001b[0m\u001b[1;33m:\u001b[0m\u001b[1;33m\u001b[0m\u001b[0m\n",
      "\u001b[1;32mnetCDF4/_netCDF4.pyx\u001b[0m in \u001b[0;36mnetCDF4._netCDF4.Dataset.__init__ (netCDF4/_netCDF4.c:12262)\u001b[1;34m()\u001b[0m\n",
      "\u001b[1;31mOSError\u001b[0m: NetCDF: I/O failure"
     ]
    }
   ],
   "source": [
    "import netCDF4\n",
    "import urllib\n",
    "from mpl_toolkits.basemap import Basemap\n",
    "\n",
    "url = (\"http://n5eil01u.ecs.nsidc.org/opendap/SMAP/SPL1BTB.003/2015.05.23/\"\n",
    "       \"SMAP_L1B_TB_01630_D_20150523T004154_R13080_001.h5\")\n",
    "\n",
    "dataset = netCDF4.Dataset(url)\n",
    "\n",
    "for var in dataset.variables:\n",
    "    print(var)"
   ]
  },
  {
   "cell_type": "code",
   "execution_count": null,
   "metadata": {
    "collapsed": false
   },
   "outputs": [],
   "source": [
    "main_data = dataset.variables[\"_Brightness_Temperature_sea_ice_fraction\"][:,:]\n",
    "lat = dataset.variables[\"_Spacecraft_Data_sc_nadir_lat\"][:]\n",
    "lon = dataset.variables[\"_Spacecraft_Data_sc_nadir_lon\"][:]"
   ]
  },
  {
   "cell_type": "code",
   "execution_count": null,
   "metadata": {
    "collapsed": false
   },
   "outputs": [],
   "source": [
    "%matplotlib inline\n",
    "from numpy import linspace, meshgrid\n",
    "import numpy as np\n",
    "import matplotlib.pyplot as plt\n",
    "\n",
    "m = Basemap(projection='spstere', boundinglat=-50,lon_0=40, resolution='c')\n",
    "#m = Basemap(projection='nsper',lon_0=50,lat_0=-90,\n",
    "#        satellite_height=650*1000.,resolution='l')\n",
    "\n",
    "plt.figure(figsize=(20,20))\n",
    "m.drawmeridians(np.arange(0,360,30))\n",
    "m.drawparallels(np.arange(-90,90,30))\n",
    "m.drawcoastlines()\n",
    "m.drawcountries()\n",
    "\n",
    "x = linspace(lat[0], lat[0]+244,244)\n",
    "y = linspace(lon[0], lon[778], 779)\n",
    "px, py = np.meshgrid(x,y)\n",
    "mx, my = m(px, py)\n",
    "m.scatter(lon, lat, s=5, c='black', latlon=True)\n",
    "m.pcolor(px, py, main_data, latlon=True)\n",
    "#m.scatter(mx, my, s=1, c='yellow')"
   ]
  },
  {
   "cell_type": "code",
   "execution_count": null,
   "metadata": {
    "collapsed": false
   },
   "outputs": [],
   "source": [
    "plt.figure(figsize=(15,15))\n",
    "imgplt = plt.imshow(main_data)"
   ]
  },
  {
   "cell_type": "code",
   "execution_count": null,
   "metadata": {
    "collapsed": true
   },
   "outputs": [],
   "source": []
  }
 ],
 "metadata": {
  "kernelspec": {
   "display_name": "Python 3",
   "language": "python",
   "name": "python3"
  },
  "language_info": {
   "codemirror_mode": {
    "name": "ipython",
    "version": 3
   },
   "file_extension": ".py",
   "mimetype": "text/x-python",
   "name": "python",
   "nbconvert_exporter": "python",
   "pygments_lexer": "ipython3",
   "version": "3.4.3"
  },
  "widgets": {
   "state": {},
   "version": "1.1.2"
  }
 },
 "nbformat": 4,
 "nbformat_minor": 0
}
