{
 "cells": [
  {
   "cell_type": "code",
   "execution_count": 2,
   "metadata": {
    "collapsed": false
   },
   "outputs": [],
   "source": [
    "from urllib.error import HTTPError\n",
    "from IPython.display import display\n",
    "from pprint import pprint\n",
    "import netCDF4\n",
    "import ipywidgets as widgets\n",
    "import urllib.request\n",
    "import xml.etree.ElementTree as ET\n",
    "import re\n",
    "\n",
    "DATA_URLS = {\"SPL1AP\":\"http://n5eil01u.ecs.nsidc.org/opendap/SMAP/SPL1AP.002/\",\n",
    "             \"SPL1BTB 3\":\"http://n5eil01u.ecs.nsidc.org/opendap/SMAP/SPL1BTB.003/\",\n",
    "             \"SPL1BTB 2\":\"http://n5eil01u.ecs.nsidc.org/opendap/SMAP/SPL1BTB.002/\",\n",
    "             \"SPL1CTB 2\":\"http://n5eil01u.ecs.nsidc.org/opendap/SMAP/SPL1CTB.002/\",\n",
    "             \"SPL1CTB 3\":\"http://n5eil01u.ecs.nsidc.org/opendap/SMAP/SPL1CTB.003/\",\n",
    "             \"SPL2SMA 2\":\"http://n5eil01u.ecs.nsidc.org/opendap/SMAP/SPL2SMA.002/\",\n",
    "             \"SPL2SMA 3\":\"http://n5eil01u.ecs.nsidc.org/opendap/SMAP/SPL2SMA.003/\"}\n",
    "\n",
    "SMAP_DATE_RANGE = [2015, 2016]\n",
    "\n",
    "# Set up and display the widgets.\n",
    "data_dropdown = widgets.Dropdown(options=DATA_URLS, value=DATA_URLS[\"SPL1AP\"], description=\"Avaliable Data\")\n",
    "datasets_dropdown = widgets.Dropdown()\n",
    "year_slider = widgets.IntSlider(min=SMAP_DATE_RANGE[0], max=SMAP_DATE_RANGE[1], step=1, value=0, description=\"Year\")\n",
    "month_slider = widgets.IntSlider(min=1, max=12, step=1, value=0, description=\"Month\")\n",
    "day_slider = widgets.IntSlider(min=1, max=31, step=1, value=0, description=\"Day\")\n",
    "hour_slider = widgets.IntSlider(min=0, max=24, step=1, value=0, description=\"Hours\")\n",
    "minutes_slider = widgets.IntSlider(min=0, max=60, step=1, value=0, description=\"Minutes\")\n",
    "seconds_slider = widgets.IntSlider(min=0, max=60, step=1, value=0, description=\"Seconds\")\n",
    "button = widgets.Button(description=\"Submit\")\n",
    "time_options_buttons = widgets.ToggleButtons(description=\"Display datasets that were recorded\",\n",
    "                                             options={'before this time' : 0, 'after this time' : 1})\n",
    "display(data_dropdown)\n",
    "display(year_slider)\n",
    "display(month_slider)\n",
    "display(day_slider)\n",
    "display(time_options_buttons)\n",
    "display(hour_slider)\n",
    "display(button)\n",
    "\n",
    "def get_current_data_selection():\n",
    "    return data_dropdown.value\n",
    "\n",
    "def retrieve_dataset(b):\n",
    "    file_name = get_catalog_file_at_time(get_year_month_day())\n",
    "    \n",
    "    if 'file_name' in locals():\n",
    "        #Parse the file as xml with ElementTree. \n",
    "        xml = open(file_name)\n",
    "        tree = ET.parse(xml)\n",
    "        root = tree.getroot()\n",
    "        av_datasets = []\n",
    "\n",
    "        #Loop through the catalog's \"data\" elements\n",
    "        for child in root[2]:\n",
    "            #If the file is an .h5 file, and not a .h5.iso.xml, then store its name.\n",
    "            match = re.search(r\"\\.h5\\Z\", child.attrib[\"name\"])\n",
    "            if match:\n",
    "                dataset_time = get_dataset_time(child.attrib[\"name\"])\n",
    "                user_time = get_user_time()\n",
    "                if compare_times(dataset_time, user_time, time_options_buttons.value):\n",
    "                    av_datasets.append(child.attrib[\"name\"])\n",
    "        \n",
    "        #Print the matching dataset names.\n",
    "        make_dropdown(av_datasets)\n",
    "\n",
    "def get_user_time():\n",
    "    return [hour_slider.value, minutes_slider.value, seconds_slider.value]\n",
    "        \n",
    "def get_dataset_time(dataset_name):\n",
    "    time_string = re.search(r\"T\\d+\",dataset_name).group(0)[1:]\n",
    "    return [time_string[0:2], time_string[2:4], time_string[4:6]]\n",
    "\n",
    "def compare_times(time1, time2, mode):\n",
    "    hrs1 = int(time1[0])\n",
    "    hrs2 = int(time2[0])\n",
    "    if mode == 0:\n",
    "        # Return true if time 1 occurs before time 2\n",
    "        if hrs1 > hrs2:\n",
    "            return False\n",
    "        return True\n",
    "    else:\n",
    "        # Return true if time 1 occurs after time 2\n",
    "        if hrs1 < hrs2:\n",
    "            return False\n",
    "        return True\n",
    "        \n",
    "def get_catalog_file_at_time(date):\n",
    "    date_dotted, date_underscore = make_date_formats(date)\n",
    "    try:\n",
    "        #Retrieve the catalog file for the formed year\n",
    "        file_name, headers = urllib.request.urlretrieve(get_current_data_selection()\n",
    "                                                        +date_dotted+\"/catalog.xml\", \n",
    "                                                        \"catalog_\"+date_underscore+\".xml\")\n",
    "        return file_name\n",
    "    \n",
    "    except HTTPError:\n",
    "        #Returns if the url is improperly formatted or the date doesn't exist.\n",
    "        print(\"Can't find data for \" + date_dotted)\n",
    "        \n",
    "def get_dataset_at_time(dataset, date):\n",
    "    date_dotted, date_underscore = make_date_formats(date)\n",
    "    url = (get_current_data_selection()\n",
    "           +date_dotted+\"/\"+dataset)\n",
    "    return netCDF4.Dataset(url)\n",
    "        \n",
    "def get_year_month_day():\n",
    "    return [year_slider.value, month_slider.value, day_slider.value]\n",
    "        \n",
    "def make_date_formats(date):\n",
    "    #Create the date in a dotted and underscored format, as appears in the url\n",
    "    date_dotted = str(date[0]) + \".\" + '{0:02d}'.format(date[1]) + \".\" + '{0:02d}'.format(date[2])\n",
    "    date_underscore = str(date[0]) + \"_\" + str(date[1]) + \"_\" + str(date[2])\n",
    "    return (date_dotted, date_underscore)\n",
    "\n",
    "def handle_dropdown(b):\n",
    "    selected_dataset_name = b[\"new\"]\n",
    "    dataset = get_dataset_at_time(selected_dataset_name, get_year_month_day())\n",
    "    print(\"Variables in this dataset:\\n\")\n",
    "    print(dataset.variables)\n",
    "        \n",
    "def make_dropdown(datasets_list):\n",
    "    datasets_dropdown = widgets.Dropdown(options=datasets_list, value=datasets_list[0], description=\"Avaliable Datasets\")\n",
    "    display(datasets_dropdown)\n",
    "    datasets_dropdown.observe(handle_dropdown, \"value\")\n",
    "    \n",
    "button.on_click(retrieve_dataset)"
   ]
  },
  {
   "cell_type": "code",
   "execution_count": null,
   "metadata": {
    "collapsed": true
   },
   "outputs": [],
   "source": []
  }
 ],
 "metadata": {
  "kernelspec": {
   "display_name": "Python 3",
   "language": "python",
   "name": "python3"
  },
  "language_info": {
   "codemirror_mode": {
    "name": "ipython",
    "version": 3
   },
   "file_extension": ".py",
   "mimetype": "text/x-python",
   "name": "python",
   "nbconvert_exporter": "python",
   "pygments_lexer": "ipython3",
   "version": "3.4.3"
  },
  "widgets": {
   "state": {
    "00c70023ee0b477891bec42a08a82391": {
     "views": []
    },
    "0743ca2806ae4608b811de5834e7aa6e": {
     "views": []
    },
    "12812fafffdf484d8eec4de1b2f766f0": {
     "views": []
    },
    "23f7a01f831541e4995f36acebc9e9cd": {
     "views": [
      {
       "cell_index": 0
      }
     ]
    },
    "2f71194ceb93484ab3dc417527383e46": {
     "views": []
    },
    "3b88befa8b6249d78206071195a224bc": {
     "views": []
    },
    "4151422fe7cb4059b0839065d4bdb892": {
     "views": []
    },
    "46045b39850141b5adbf5d2209e485e9": {
     "views": [
      {
       "cell_index": 0
      }
     ]
    },
    "4bf76508647e4b948ecd57c1fa2bc66c": {
     "views": []
    },
    "56224701c6d743c68778b0bd21256213": {
     "views": []
    },
    "5b098696b86c472285ad2bcf5dbba962": {
     "views": []
    },
    "97f74937224a46f79d0dafa9d3463ce3": {
     "views": []
    },
    "998f31dfac3f4301b4c5bed1268616ad": {
     "views": [
      {
       "cell_index": 0
      }
     ]
    },
    "acb52b86399943b7b616001fe3d1929f": {
     "views": [
      {
       "cell_index": 0
      }
     ]
    },
    "b6d1de1b3fd44718a5ded77ecdd9f559": {
     "views": []
    },
    "d078bc8ea10a49db82324ce7bbae8512": {
     "views": [
      {
       "cell_index": 0
      }
     ]
    },
    "e5c40bdbc1cb43a59f71cf7f683591ed": {
     "views": []
    },
    "eaa7341124c44336802fd4e6cc6646f6": {
     "views": [
      {
       "cell_index": 0
      }
     ]
    },
    "f05cfd1d76164162bfb9a606e416458a": {
     "views": []
    },
    "faf0cdfa26144fa694d0ea5e340cff85": {
     "views": [
      {
       "cell_index": 0
      }
     ]
    }
   },
   "version": "1.1.2"
  }
 },
 "nbformat": 4,
 "nbformat_minor": 0
}
