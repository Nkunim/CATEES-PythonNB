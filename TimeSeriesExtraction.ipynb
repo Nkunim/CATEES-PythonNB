{
 "cells": [
  {
   "cell_type": "markdown",
   "metadata": {},
   "source": [
    "###### Select the soil_moisture from SMAP L3 Passive Soil Moisture (SPL3SMP.003) for Simi Valley, CA the (34.231, -118.661, 34.311, -118.869) for 1 April 2015 through 1 June 2016"
   ]
  },
  {
   "cell_type": "code",
   "execution_count": 1,
   "metadata": {
    "collapsed": false
   },
   "outputs": [],
   "source": [
    "%matplotlib inline\n",
    "import netCDF4\n",
    "import matplotlib.pyplot as plt\n",
    "import numpy as np\n",
    "import urllib\n",
    "from mpl_toolkits.basemap import Basemap\n",
    "import ipywidgets as widgets\n",
    "from ipywidgets import interact\n",
    "from datetime import datetime, timedelta\n",
    "from urllib.error import HTTPError\n",
    "\n",
    "TIMEFRAME = [datetime(2015, 4, 1), datetime(2016, 6, 1)]\n",
    "SMAP_LOCAL_FILE_URL = \"./SMAP/SMAP_L3_SM_P_{}_R13080_001.h5.nc\"\n",
    "SMAP_REMOTE_FILE_URL = \"http://n5eil01u.ecs.nsidc.org:80/opendap/SMAP/SPL3SMP.003/{}/SMAP_L3_SM_P_{}_R13080_001.h5.nc\"\n",
    "\n",
    "#blatantly copied from http://stackoverflow.com/questions/1060279/iterating-through-a-range-of-dates-in-python\n",
    "def daterange(timeframe):\n",
    "    for n in range(int ((timeframe[1] - timeframe[0]).days)):\n",
    "        yield timeframe[0] + timedelta(n)        \n",
    "\n",
    "def form_smashed_date(date):\n",
    "    return str(date.year) + str(date.month).zfill(2) + str(date.day).zfill(2)\n",
    "        \n",
    "def form_dotted_date(date):\n",
    "    return str(date.year) + \".\" + str(date.month).zfill(2) + \".\" + str(date.day).zfill(2)\n",
    "\n",
    "def download_smap_file(date):\n",
    "    file_name = SMAP_LOCAL_FILE_URL.format(form_smashed_date(date))\n",
    "    opendap_smap_url = SMAP_REMOTE_FILE_URL.format(form_dotted_date(date), form_smashed_date(date))\n",
    "    try:\n",
    "        print(\"trying to download \" + file_name)\n",
    "        file, headers = urllib.request.urlretrieve(opendap_smap_url, file_name)\n",
    "    except HTTPError as e:\n",
    "        print(\"couldn't download \" + file_name + \", \" + str(e))\n"
   ]
  },
  {
   "cell_type": "code",
   "execution_count": 2,
   "metadata": {
    "collapsed": false
   },
   "outputs": [],
   "source": [
    "def generate_time_series():\n",
    "   for date in daterange(TIMEFRAME):\n",
    "       local_smap_url = SMAP_LOCAL_FILE_URL.format(form_smashed_date(date))\n",
    "       try:\n",
    "           dataset = netCDF4.Dataset(local_smap_url)\n",
    "           get_value(dataset)\n",
    "       except OSError as e:\n",
    "           print(\"oops, couldn't find \" + local_smap_url)\n",
    "           #download_smap_file(date)\n",
    "            \n",
    "def get_value(dataset):\n",
    "   lats = dataset.variables[\"Soil_Moisture_Retrieval_Data_latitude\"][:,:]\n",
    "   lons = dataset.variables[\"Soil_Moisture_Retrieval_Data_longitude\"][:,:]\n",
    "    \n",
    "   simi_valley_lats = (lats >= 34.231) & (lats <= 34.311)\n",
    "   simi_valley_lons = (lons >= -118.661) & (lons <= -118.869)\n",
    "    \n",
    "   row_smla, col_smla = np.where(simi_valley_lats)\n",
    "   row_smlo, col_smlo = np.where(simi_valley_lons)\n",
    "    \n",
    "   mos = dataset.variables[\"Soil_Moisture_Retrieval_Data_soil_moisture\"][row_smla,col_smla]\n",
    "   write_to_time_series_file(mos)\n",
    "    \n",
    "def write_to_time_series_file(writable_data):\n",
    "   print(\"Writing...\")\n",
    "   time_series = open(\"./SMAP_time_series.txt\",\"a\")\n",
    "   time_series.write(str(writable_data[0]))\n",
    "    \n",
    "generate_time_series()"
   ]
  },
  {
   "cell_type": "code",
   "execution_count": null,
   "metadata": {
    "collapsed": true
   },
   "outputs": [],
   "source": []
  }
 ],
 "metadata": {
  "kernelspec": {
   "display_name": "Python 3",
   "language": "python",
   "name": "python3"
  },
  "language_info": {
   "codemirror_mode": {
    "name": "ipython",
    "version": 3
   },
   "file_extension": ".py",
   "mimetype": "text/x-python",
   "name": "python",
   "nbconvert_exporter": "python",
   "pygments_lexer": "ipython3",
   "version": "3.4.3"
  },
  "widgets": {
   "state": {
    "1bb75fdc197042d2bd8c91aa3a8b2a29": {
     "views": []
    },
    "85b030d0face4005a54d223ce65120e8": {
     "views": []
    },
    "8b9eb8139e6440c5b6309c7b647aabac": {
     "views": []
    },
    "ab5dc083a83f46d3ba7ac76da819a111": {
     "views": []
    },
    "b2db743c4cc04597b45889221b92060e": {
     "views": []
    },
    "bed550d2cca04b98a74eae25732a4062": {
     "views": []
    },
    "cc39bc46de454ef8869ecaf7841c5853": {
     "views": []
    },
    "ce588de6d7b94c5b8171ef6577cd4f9f": {
     "views": []
    },
    "d6edbe32991f47cc9d9d3931d33c163a": {
     "views": []
    },
    "f73d8c62c8fd4769a18447aa04d657b4": {
     "views": []
    },
    "f9608a63a7044962a20a82f9c8a905db": {
     "views": []
    },
    "f9db636e953f4865a5ba21e3d1b15e34": {
     "views": []
    }
   },
   "version": "1.1.2"
  }
 },
 "nbformat": 4,
 "nbformat_minor": 0
}
