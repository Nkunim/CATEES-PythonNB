{
 "cells": [
  {
   "cell_type": "markdown",
   "metadata": {},
   "source": [
    "###### Select the soil_moisture from SMAP L3 Passive Soil Moisture (SPL3SMP.003) for Simi Valley, CA the (34.231, -118.661, 34.311, -118.869) for 1 April 2015 through 1 June 2016"
   ]
  },
  {
   "cell_type": "code",
   "execution_count": null,
   "metadata": {
    "collapsed": false
   },
   "outputs": [],
   "source": [
    "%matplotlib inline\n",
    "import netCDF4\n",
    "import matplotlib.pyplot as plt\n",
    "import numpy as np\n",
    "import urllib\n",
    "from mpl_toolkits.basemap import Basemap\n",
    "import ipywidgets as widgets\n",
    "from ipywidgets import interact\n",
    "from datetime import datetime, timedelta\n",
    "from urllib.error import HTTPError\n",
    "\n",
    "TIMEFRAME = [datetime(2015, 4, 1), datetime(2016, 6, 1)]\n",
    "#TIMEFRAME = [datetime(2015, 5, 1), datetime(2015, 5, 5)]\n",
    "SMAP_LOCAL_FILE_URL = \"./SMAP/SMAP_L3_SM_P_{}_R13080_001.h5.nc\"\n",
    "SMAP_REMOTE_FILE_URL = \"http://n5eil01u.ecs.nsidc.org:80/opendap/SMAP/SPL3SMP.003/{}/SMAP_L3_SM_P_{}_R13080_001.h5.nc\"\n",
    "\n",
    "#blatantly copied from http://stackoverflow.com/questions/1060279/iterating-through-a-range-of-dates-in-python\n",
    "def daterange(timeframe):\n",
    "    for n in range(int ((timeframe[1] - timeframe[0]).days)):\n",
    "        yield timeframe[0] + timedelta(n)        \n",
    "\n",
    "def form_smashed_date(date):\n",
    "    return str(date.year) + str(date.month).zfill(2) + str(date.day).zfill(2)\n",
    "        \n",
    "def form_dotted_date(date):\n",
    "    return str(date.year) + \".\" + str(date.month).zfill(2) + \".\" + str(date.day).zfill(2)\n",
    "\n",
    "def download_smap_file(date):\n",
    "    file_name = SMAP_LOCAL_FILE_URL.format(form_smashed_date(date))\n",
    "    opendap_smap_url = SMAP_REMOTE_FILE_URL.format(form_dotted_date(date), form_smashed_date(date))\n",
    "    try:\n",
    "        print(\"trying to download \" + file_name)\n",
    "        file, headers = urllib.request.urlretrieve(opendap_smap_url, file_name)\n",
    "    except HTTPError as e:\n",
    "        print(\"couldn't download \" + file_name + \", \" + str(e))\n"
   ]
  },
  {
   "cell_type": "code",
   "execution_count": null,
   "metadata": {
    "collapsed": false
   },
   "outputs": [
    {
     "name": "stderr",
     "output_type": "stream",
     "text": [
      "Widget Javascript not detected.  It may not be installed properly. Did you enable the widgetsnbextension? If not, then run \"jupyter nbextension enable --py --sys-prefix widgetsnbextension\"\n"
     ]
    }
   ],
   "source": [
    "%matplotlib inline\n",
    "\n",
    "def setup_plot():\n",
    "    #m = Basemap(projection='ortho',lat_0=10,lon_0=20,resolution='c')\n",
    "    m = Basemap(projection='stere', lon_0=-120, lat_0=90, lat_ts=90,\n",
    "                llcrnrlat=33, llcrnrlon=-120,\n",
    "                urcrnrlat=35, urcrnrlon=-118,\n",
    "                resolution='h')\n",
    "    m.drawcoastlines()\n",
    "    m.drawcountries()\n",
    "    m.drawstates()\n",
    "    m.drawcounties()\n",
    "    m.drawrivers()\n",
    "    return m\n",
    "\n",
    "def plot_smap_dataset(basemap, dataset):\n",
    "    lat = dataset.variables[\"Soil_Moisture_Retrieval_Data_latitude\"][:,:]\n",
    "    lon = dataset.variables[\"Soil_Moisture_Retrieval_Data_longitude\"][:,:]\n",
    "    mos = dataset.variables[\"Soil_Moisture_Retrieval_Data_soil_moisture\"][:,:]\n",
    "    \n",
    "    cs = basemap.pcolor(lon, lat, mos, alpha=0.5, edgecolors=None, latlon=True)\n",
    "    cbar = basemap.colorbar(cs, location='bottom', pad='5%')\n",
    "    cbar.set_label(\"cm^3/cm^3\")\n",
    "    \n",
    "def setup():\n",
    "    print(TIMEFRAME[0].timestamp())\n",
    "    print(TIMEFRAME[1].timestamp())\n",
    "    print(datetime(2015,4,1).timestamp() - datetime(2015,4,4).timestamp())\n",
    "    \n",
    "@interact(selected_date=widgets.IntSlider(min=1427846400, max=1464739200, step=259200, value=1427846400,\n",
    "                                          continuous_update=False,description=\"Date: \",readout_format=''))\n",
    "def get_dataset(selected_date=1430438400):\n",
    "    converted_date = datetime.fromtimestamp(selected_date)\n",
    "    three_day_timeframe = [converted_date, converted_date+timedelta(3)]\n",
    "    plot = plt.figure(figsize=(20,20))\n",
    "    m = setup_plot()\n",
    "    for date in daterange(three_day_timeframe):\n",
    "        local_smap_url = SMAP_LOCAL_FILE_URL.format(form_smashed_date(date))\n",
    "        try:\n",
    "            dataset = netCDF4.Dataset(local_smap_url)\n",
    "        except OSError as e:\n",
    "            print(\"oops, couldn't find \" + local_smap_url)\n",
    "            download_smap_file(date)\n",
    "        else:\n",
    "            plot_smap_dataset(m, dataset)\n",
    "    \n",
    "#setup()"
   ]
  },
  {
   "cell_type": "code",
   "execution_count": null,
   "metadata": {
    "collapsed": true
   },
   "outputs": [],
   "source": []
  }
 ],
 "metadata": {
  "kernelspec": {
   "display_name": "Python 3",
   "language": "python",
   "name": "python3"
  },
  "language_info": {
   "codemirror_mode": {
    "name": "ipython",
    "version": 3
   },
   "file_extension": ".py",
   "mimetype": "text/x-python",
   "name": "python",
   "nbconvert_exporter": "python",
   "pygments_lexer": "ipython3",
   "version": "3.4.3"
  },
  "widgets": {
   "state": {
    "7b39c008180147879dfdf74369d71e00": {
     "views": [
      {
       "cell_index": 2
      }
     ]
    },
    "9a42bbbb447a4391b19cfa013eddbe68": {
     "views": []
    },
    "9c1e50ec6bec4ba19b4f188225ee9424": {
     "views": []
    },
    "a2079084fa7c44fa9479b0adb4dc79b1": {
     "views": []
    }
   },
   "version": "1.1.2"
  }
 },
 "nbformat": 4,
 "nbformat_minor": 0
}
