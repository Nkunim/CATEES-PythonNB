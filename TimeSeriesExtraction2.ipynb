{
 "cells": [
  {
   "cell_type": "markdown",
   "metadata": {},
   "source": [
    "Select NDSI_Snow_Cover from MOD10A.006 for Red Mountain Pass, CO  (37°53′56″N 107°42′43″W) for 1 Oct 2000 - 1 Oct 2015"
   ]
  },
  {
   "cell_type": "code",
   "execution_count": 1,
   "metadata": {
    "collapsed": false
   },
   "outputs": [],
   "source": [
    "import re\n",
    "import urllib\n",
    "import netCDF4\n",
    "import numpy as np\n",
    "import ipywidgets as widgets\n",
    "import matplotlib.pyplot as plt\n",
    "import xml.etree.ElementTree as ET\n",
    "from ipywidgets import interact\n",
    "from urllib.error import HTTPError\n",
    "from mpl_toolkits.basemap import Basemap\n",
    "from datetime import datetime, timedelta\n",
    "\n",
    "TIMEFRAME = [datetime(2000, 10, 1), datetime(2015, 10, 1)]\n",
    "MODIS_BASE_URL = \"http://n5eil01u.ecs.nsidc.org:80/opendap/MOST/MOD10A1.006/\"\n",
    "\n",
    "def daterange(timeframe):\n",
    "    for n in range(int ((timeframe[1] - timeframe[0]).days)):\n",
    "        yield timeframe[0] + timedelta(n)  \n",
    "\n",
    "def form_smashed_date(date):\n",
    "    return str(date.year) + str(date.month).zfill(2) + str(date.day).zfill(2)\n",
    "          \n",
    "def form_dotted_date(date):\n",
    "    return str(date.year) + \".\" + str(date.month).zfill(2) + \".\" + str(date.day).zfill(2)\n",
    "\n",
    "def dataset_lats(dataset):\n",
    "    return dataset[\"Latitude\"][:,:]\n",
    "\n",
    "def dataset_lons(dataset):\n",
    "    return dataset[\"Longitude\"][:,:]\n",
    "\n",
    "def dataset_values(dataset):\n",
    "    return dataset[\"NDSI_Snow_Cover\"][:,:]\n"
   ]
  },
  {
   "cell_type": "code",
   "execution_count": 3,
   "metadata": {
    "collapsed": false
   },
   "outputs": [],
   "source": [
    "#%matplotlib inline\n",
    "#def draw_figure(dataset):\n",
    "#    plt.figure(figsize=(15,15))\n",
    "#    b = Basemap(projection='stere', lat_0=50,lon_0=-105,resolution='c', llcrnrlon=-110, llcrnrlat=35,urcrnrlon=-105, urcrnrlat=40)\n",
    "#    b.drawstates()\n",
    "#    b.drawcounties()\n",
    "#    b.pcolor(dataset_lats(dataset), dataset_lons(dataset), dataset_values(dataset), latlon=True)\n",
    "    \n",
    "#@interact(num=widgets.IntSlider(min=0,max=2318,value=0,step=1,continuous_update=False))\n",
    "#def show_it(num=0):\n",
    "#    dataset = netCDF4.Dataset(get_filesystem_dataset(num))\n",
    "#    draw_figure(dataset)\n",
    "\n",
    "#dataset = netCDF4.Dataset(get_filesystem_dataset(5))\n",
    "#draw_figure(dataset)"
   ]
  },
  {
   "cell_type": "code",
   "execution_count": null,
   "metadata": {
    "collapsed": true
   },
   "outputs": [],
   "source": []
  }
 ],
 "metadata": {
  "kernelspec": {
   "display_name": "Python 3",
   "language": "python",
   "name": "python3"
  },
  "language_info": {
   "codemirror_mode": {
    "name": "ipython",
    "version": 3
   },
   "file_extension": ".py",
   "mimetype": "text/x-python",
   "name": "python",
   "nbconvert_exporter": "python",
   "pygments_lexer": "ipython3",
   "version": "3.4.3"
  },
  "widgets": {
   "state": {},
   "version": "1.1.2"
  }
 },
 "nbformat": 4,
 "nbformat_minor": 0
}
