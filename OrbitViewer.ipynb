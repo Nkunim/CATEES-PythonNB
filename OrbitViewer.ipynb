{
 "cells": [
  {
   "cell_type": "markdown",
   "metadata": {},
   "source": [
    "Use case:  As a user I want to view which files in a dataset cover the earth on a certian day."
   ]
  },
  {
   "cell_type": "code",
   "execution_count": 1,
   "metadata": {
    "collapsed": true
   },
   "outputs": [],
   "source": [
    "import netCDF4\n",
    "import urllib.request\n",
    "import numpy as np\n",
    "import matplotlib.pyplot as plt\n",
    "import datetime\n",
    "from urllib.error import HTTPError\n",
    "from datetime import timedelta, date, datetime\n",
    "from mpl_toolkits.basemap import Basemap\n",
    "from ipywidgets import interact\n",
    "import ipywidgets as widgets"
   ]
  },
  {
   "cell_type": "markdown",
   "metadata": {},
   "source": [
    "We'll keep some constants to help us run through the various datasets that we'll be requesting."
   ]
  },
  {
   "cell_type": "code",
   "execution_count": 2,
   "metadata": {
    "collapsed": false
   },
   "outputs": [],
   "source": [
    "SMAP_DATASET_URL = \"http://n5eil01u.ecs.nsidc.org:80/opendap/SMAP/SPL3SMP.003/\"\n",
    "SMAP_DATEFILE_URL = \"/SMAP_L3_SM_P_{}_R13080_001.h5.nc\"\n",
    "TIMEFRAME = [datetime(2015, 4, 1), datetime(2016, 6, 1)]\n",
    "VARIABLES = (\"?Soil_Moisture_Retrieval_Data_soil_moisture[0:1:405][0:1:963],\"\n",
    "             \"Soil_Moisture_Retrieval_Data_latitude[0:1:405][0:1:963],\"\n",
    "             \"Soil_Moisture_Retrieval_Data_longitude[0:1:405][0:1:963]\")\n"
   ]
  },
  {
   "cell_type": "markdown",
   "metadata": {},
   "source": [
    "Here are some syntactic sugar methods to keep the main method readable."
   ]
  },
  {
   "cell_type": "code",
   "execution_count": 3,
   "metadata": {
    "collapsed": true
   },
   "outputs": [],
   "source": [
    "def form_smashed_date(date):\n",
    "    return str(date.year) + str(date.month).zfill(2) + str(date.day).zfill(2)\n",
    "        \n",
    "def form_dotted_date(date):\n",
    "    return str(date.year) + \".\" + str(date.month).zfill(2) + \".\" + str(date.day).zfill(2)\n"
   ]
  },
  {
   "cell_type": "code",
   "execution_count": null,
   "metadata": {
    "collapsed": false
   },
   "outputs": [],
   "source": [
    "def show_covered_area(dataset):\n",
    "    lat = dataset.variables[\"Soil_Moisture_Retrieval_Data_latitude\"][:, :]\n",
    "    lon = dataset.variables[\"Soil_Moisture_Retrieval_Data_longitude\"][:, :]\n",
    "    plot = plt.figure(figsize=(20,20))\n",
    "    m = Basemap(projection='robin',lon_0=0,resolution='c')\n",
    "    m.drawcoastlines()\n",
    "    m.scatter(lon, lat, s=5, color='black', latlon=True)\n"
   ]
  },
  {
   "cell_type": "markdown",
   "metadata": {},
   "source": [
    "Finally, our main method which does the heavy lifting of requesting datasets and then graphing them."
   ]
  },
  {
   "cell_type": "code",
   "execution_count": null,
   "metadata": {
    "collapsed": false
   },
   "outputs": [
    {
     "name": "stderr",
     "output_type": "stream",
     "text": [
      "Widget Javascript not detected.  It may not be installed properly. Did you enable the widgetsnbextension? If not, then run \"jupyter nbextension enable --py --sys-prefix widgetsnbextension\"\n"
     ]
    }
   ],
   "source": [
    "%matplotlib inline\n",
    "@interact(timestamp=widgets.IntSlider(min=1427846400, max=1464652800, step=86400, value=0, continuous_update=False, description=\"Date\", readout_format=\"d\"))\n",
    "def find_datasets(timestamp=1427846400):\n",
    "        single_date = datetime.fromtimestamp(timestamp)\n",
    "        formed_url = SMAP_DATASET_URL + form_dotted_date(single_date) + SMAP_DATEFILE_URL.format(form_smashed_date(single_date)) + VARIABLES\n",
    "        plt.clf()\n",
    "        plt.text(105,105,\"Loading...\")\n",
    "        try:\n",
    "            file, headers = urllib.request.urlretrieve(formed_url)\n",
    "            dataset = netCDF4.Dataset(file)\n",
    "            plt.clf()\n",
    "            show_covered_area(dataset)\n",
    "        except HTTPError as e:\n",
    "            print(\"There was an error:\" + str(e.code))\n",
    "        \n",
    "        \n",
    "find_datasets()"
   ]
  },
  {
   "cell_type": "code",
   "execution_count": null,
   "metadata": {
    "collapsed": true
   },
   "outputs": [],
   "source": []
  }
 ],
 "metadata": {
  "kernelspec": {
   "display_name": "Python 3",
   "language": "python",
   "name": "python3"
  },
  "language_info": {
   "codemirror_mode": {
    "name": "ipython",
    "version": 3
   },
   "file_extension": ".py",
   "mimetype": "text/x-python",
   "name": "python",
   "nbconvert_exporter": "python",
   "pygments_lexer": "ipython3",
   "version": "3.4.3"
  },
  "widgets": {
   "state": {
    "11c76a3296304146ae09262746c0bcdd": {
     "views": []
    },
    "538d5e08980a4d1c877459f4faa1ff88": {
     "views": []
    },
    "5a690c49f4ef4416acbfc24f9dc6e9bf": {
     "views": []
    },
    "a1ab3d9fc4604647aa0f18e51455fe76": {
     "views": [
      {
       "cell_index": 8
      }
     ]
    }
   },
   "version": "1.1.2"
  }
 },
 "nbformat": 4,
 "nbformat_minor": 0
}
